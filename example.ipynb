{
  "cells": [
    {
      "cell_type": "code",
      "execution_count": null,
      "metadata": {
        "id": "YoygDwWATSVk"
      },
      "outputs": [],
      "source": [
        "!pip install fiftyone umap-learn"
      ]
    },
    {
      "cell_type": "code",
      "execution_count": null,
      "metadata": {
        "id": "W_VoNSy0TnKp"
      },
      "outputs": [],
      "source": [
        "!fiftyone plugins download https://github.com/harpreetsahota204/aim-embeddings-plugin"
      ]
    },
    {
      "cell_type": "code",
      "execution_count": null,
      "metadata": {
        "id": "L2QsCL39TXo8"
      },
      "outputs": [],
      "source": [
        "import fiftyone as fo\n",
        "import fiftyone.zoo as foz\n",
        "\n",
        "dataset = foz.load_zoo_dataset(\"quickstart\")"
      ]
    },
    {
      "cell_type": "code",
      "execution_count": null,
      "metadata": {
        "id": "YYcv9L93T00S"
      },
      "outputs": [],
      "source": [
        "import fiftyone.operators as foo\n",
        "\n",
        "embedding_operator = foo.get_operator(\"@harpreetsahota/aimv2_embeddings/compute_aimv2_embeddings\")"
      ]
    },
    {
      "cell_type": "markdown",
      "metadata": {
        "id": "eyOAmLW11iHW"
      },
      "source": [
        "Launch delegated service by running `fiftyone delegated launch` in terminal"
      ]
    },
    {
      "cell_type": "code",
      "execution_count": null,
      "metadata": {
        "id": "sMPLAMcvZCh8"
      },
      "outputs": [],
      "source": [
        "await embedding_operator(\n",
        "    dataset,\n",
        "    model_name=\"apple/aimv2-large-patch14-224\",\n",
        "    emb_field=\"test_operator_delegated_mean\",\n",
        "    embedding_types=\"mean\",\n",
        "    delegate=True\n",
        "    )"
      ]
    },
    {
      "cell_type": "code",
      "execution_count": null,
      "metadata": {
        "id": "kWEd0_wo1Z8O"
      },
      "outputs": [],
      "source": [
        "await embedding_operator(\n",
        "    dataset,\n",
        "    model_name=\"apple/aimv2-large-patch14-224\",\n",
        "    emb_field=\"test_operator_delegated_cls\",\n",
        "    embedding_types=\"cls\",\n",
        "    delegate=True\n",
        "    )"
      ]
    },
    {
      "cell_type": "code",
      "execution_count": null,
      "metadata": {
        "id": "P9Im_8FfiLU6"
      },
      "outputs": [],
      "source": [
        "import fiftyone.brain as fob\n",
        "\n",
        "results = fob.compute_visualization(\n",
        "    dataset,\n",
        "    embeddings=\"test_operator_delegated_mean\",\n",
        "    method=\"umap\",\n",
        "    brain_key=\"viz_operator_delegated_mean\",\n",
        "    num_dims=2,\n",
        "    verbose=True,\n",
        ")"
      ]
    },
    {
      "cell_type": "code",
      "execution_count": null,
      "metadata": {
        "id": "fB6Uaf1h1w6w"
      },
      "outputs": [],
      "source": [
        "import fiftyone.brain as fob\n",
        "\n",
        "results = fob.compute_visualization(\n",
        "    dataset,\n",
        "    embeddings=\"test_operator_delegated_cls\",\n",
        "    method=\"umap\",\n",
        "    brain_key=\"viz_operator_delegated_cls\",\n",
        "    num_dims=2,\n",
        "    verbose=True,\n",
        ")"
      ]
    },
    {
      "cell_type": "code",
      "execution_count": null,
      "metadata": {
        "id": "xB2TBbR-vyph"
      },
      "outputs": [],
      "source": [
        "fo.launch_app(dataset)"
      ]
    },
    {
      "cell_type": "code",
      "execution_count": null,
      "metadata": {
        "id": "5U7dXntLhmuG"
      },
      "outputs": [],
      "source": [
        "import fiftyone.brain as fob\n",
        "\n",
        "results = fob.compute_visualization(\n",
        "    dataset,\n",
        "    embeddings=\"cls_emb_app\",\n",
        "    method=\"umap\",\n",
        "    brain_key=\"viz_cls\",\n",
        "    num_dims=2,\n",
        "    verbose=True,\n",
        ")"
      ]
    }
  ],
  "metadata": {
    "accelerator": "GPU",
    "colab": {
      "gpuType": "T4",
      "machine_shape": "hm",
      "provenance": []
    },
    "kernelspec": {
      "display_name": "Python 3",
      "name": "python3"
    },
    "language_info": {
      "name": "python",
      "version": "3.11.0"
    }
  },
  "nbformat": 4,
  "nbformat_minor": 0
}
